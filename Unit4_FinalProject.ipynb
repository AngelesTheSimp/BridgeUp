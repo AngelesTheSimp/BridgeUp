{
  "nbformat": 4,
  "nbformat_minor": 0,
  "metadata": {
    "kernelspec": {
      "display_name": "Python 3",
      "language": "python",
      "name": "python3"
    },
    "language_info": {
      "codemirror_mode": {
        "name": "ipython",
        "version": 3
      },
      "file_extension": ".py",
      "mimetype": "text/x-python",
      "name": "python",
      "nbconvert_exporter": "python",
      "pygments_lexer": "ipython3",
      "version": "3.8.3"
    },
    "colab": {
      "name": "Unit4_FinalProject.ipynb",
      "provenance": [],
      "collapsed_sections": []
    }
  },
  "cells": [
    {
      "cell_type": "markdown",
      "metadata": {
        "id": "1r11LQKltG2k"
      },
      "source": [
        "# Unit 4 Final Projects: Calculating evolutionary distance\n",
        "\n",
        "In this notebook you will compare the sequence of a particular gene from 3 different species to find out which two are most closely related. \n",
        "\n",
        "You will need to do the following:\n",
        "1. Open and read in your files\n",
        "2. Decide which sequences to compare (DNA, RNA, or protein), (you may have to look at all of them)\n",
        "3. Write code that prints out the percent similarity of each pair of sequences\n",
        "\n",
        "Note: Percent similarity can be taken by the following formula: `similarites * 100 / length of the shortest sequence`\n",
        " "
      ]
    },
    {
      "cell_type": "code",
      "metadata": {
        "colab": {
          "base_uri": "https://localhost:8080/"
        },
        "id": "4VQCcUyvtMDm",
        "outputId": "731529b2-221f-448f-c1e3-454a21afd36e"
      },
      "source": [
        "from google.colab import drive\n",
        "drive.mount('/content/drive')"
      ],
      "execution_count": null,
      "outputs": [
        {
          "output_type": "stream",
          "text": [
            "Drive already mounted at /content/drive; to attempt to forcibly remount, call drive.mount(\"/content/drive\", force_remount=True).\n"
          ],
          "name": "stdout"
        }
      ]
    },
    {
      "cell_type": "code",
      "metadata": {
        "id": "pxauhJggtG2q"
      },
      "source": [
        "DNA1 = open(\"/content/drive/MyDrive/Colab Notebooks/3a_CYTB_DNA.txt\").read() #Zebra\n",
        "DNA2 = open(\"/content/drive/MyDrive/Colab Notebooks/3b_CYTB_DNA.txt\").read() #Rhino\n",
        "DNA3 = open(\"/content/drive/MyDrive/Colab Notebooks/3c_CYTB_DNA.txt\").read() #Elephant"
      ],
      "execution_count": null,
      "outputs": []
    },
    {
      "cell_type": "code",
      "metadata": {
        "collapsed": true,
        "colab": {
          "base_uri": "https://localhost:8080/"
        },
        "id": "uTyDnd9-tG2s",
        "outputId": "ec233241-8920-40ee-f68e-a15cd7f8c716"
      },
      "source": [
        "print(DNA2)"
      ],
      "execution_count": null,
      "outputs": [
        {
          "output_type": "stream",
          "text": [
            "ATGACTAACATCCGTAAATCCCACCCACTAATCAAAATTATCAATCACTCATTCATCGACCTACCCACCCCATCAAACATTTCAGCCTGATGAAATTTTGGCTCTCTACTAGGAATCTGCCTAATCCTACAAATCCTAACCGGACTATTTCTTGCTATACATTATACACCAGACACAACAACTGCCTTCTCATCCGTTGCCCACATCTGTCGAGAGGTAAACTACGGCTGAATTATCCGCTACCTACATGCAAACGGAGCATCCATATTTTTTATCTGCCTATTCATCCACATAGGACGCGGCCTCTATTACGGATCCTACACCTTCCTAAAAACCTGAAACATCGGAGTTATTCTACTACTCACAGTAATAGCCACAGCATTCATAGGCTATGTCCTACCATGAGGCCAAATATCCTTTTGAGGAGCAACAGTCATTACAAACCTACTCTCAGCTATCCCGTATATCGGCACAACTCTCGTAGAATGAATCTGAGGAGGGTTCTCCGTCGACAAAGCCACACTTACACGATTCTTCGCTTTCCACTTTATTCTCCCCTTTATCATCTCAGCCCTAGCAATCACCCACCTATTATTCCTACACGAAACAGGATCCAACAACCCATCAGGAATCCCATCCAATATAGACAAAATTCCATTCCACCCATACTACACAATCAAAGATATCCTAGGAATCCTACTCCTAATCCTAACACTACTCACCCTAGTCCTATTCTCACCCCACCATCTAGGAGACCCTGACAACTACACCCCCGCCACCCCTCTCAATACCCCTCCACATATCAAACCAGAGTGATATTTCTTATTTGCCTATGCAATCCTACGATCCGTCCCTAACAAACTAGGCGGAGTACTAGCCCTAGCACTTTCCATCCTAATCCTAGCTCTTATCCCCATTCTCCACACATCCAAACAACGAAGCATAATATTCCGACCCCTAAGCCAATGTATGTTCTGACTACTAGTAGCCGACTTACTCACACTTACATGAATCGGAGGACAACCAGTCGAGCACCCATTCATCATTATTGGCCAACTAGCATCAATCCTATATTTCTCCCTAATCCTAGTACTTATACCCCTTGCAGGCATTATCGAAAACAACCTTCTGAAATGAAGA\n"
          ],
          "name": "stdout"
        }
      ]
    },
    {
      "cell_type": "code",
      "metadata": {
        "collapsed": true,
        "colab": {
          "base_uri": "https://localhost:8080/"
        },
        "id": "VYiA1AtrtG2s",
        "outputId": "64e48a54-dfb9-4978-99d0-8310dbe0a8ac"
      },
      "source": [
        "numDifferences = 0\n",
        "for c, i in enumerate(DNA1):\n",
        "  if DNA2[c] != i:\n",
        "    numDifferences += 1\n",
        "  elif DNA3[c] != i:\n",
        "    numDifferences += 1\n",
        "\n",
        "print(numDifferences)"
      ],
      "execution_count": null,
      "outputs": [
        {
          "output_type": "stream",
          "text": [
            "415\n"
          ],
          "name": "stdout"
        }
      ]
    },
    {
      "cell_type": "code",
      "metadata": {
        "colab": {
          "base_uri": "https://localhost:8080/"
        },
        "id": "bRmfxgN3y4aJ",
        "outputId": "6acba82d-0ae8-4891-ea63-1e8d5a04338e"
      },
      "source": [
        " #Zebra and Rhino\n",
        " \n",
        " if len(DNA1)<=len(DNA2):\n",
        "    shortest = DNA1\n",
        "else:\n",
        "    shortest = DNA2\n",
        "percent = 0.0\n",
        "for i, base in enumerate(DNA1):\n",
        "    if DNA2[i] == base:\n",
        "        percent += 1.0\n",
        "print(percent * 100 / len(shortest))\n",
        "\n",
        "Zebra_Rhino = 84.21052631578948"
      ],
      "execution_count": null,
      "outputs": [
        {
          "output_type": "stream",
          "text": [
            "84.21052631578948\n"
          ],
          "name": "stdout"
        }
      ]
    },
    {
      "cell_type": "code",
      "metadata": {
        "colab": {
          "base_uri": "https://localhost:8080/"
        },
        "id": "XiySF-rDzNpe",
        "outputId": "4d7fa953-20d3-43ae-cbb8-8d93272c180e"
      },
      "source": [
        "#zebra and elephant\n",
        "\n",
        "if len(DNA1)<=len(DNA3):\n",
        "    shortest = DNA1\n",
        "else:\n",
        "    shortest = DNA3\n",
        "percent = 0.0\n",
        "for i, base in enumerate(DNA1):\n",
        "    if DNA3[i] == base:\n",
        "        percent += 1.0\n",
        "print(percent * 100 / len(shortest))\n",
        "\n",
        "Elephant_Zebra = 68.94736842105263"
      ],
      "execution_count": null,
      "outputs": [
        {
          "output_type": "stream",
          "text": [
            "68.94736842105263\n"
          ],
          "name": "stdout"
        }
      ]
    },
    {
      "cell_type": "code",
      "metadata": {
        "colab": {
          "base_uri": "https://localhost:8080/"
        },
        "id": "Oiawqv6nzR7P",
        "outputId": "c4eefd2b-3a30-4717-b4ac-6d33527c93fa"
      },
      "source": [
        "#Elaphan and rhino\n",
        "\n",
        "if len(DNA3)<=len(DNA2):\n",
        "    shortest = DNA3\n",
        "else:\n",
        "    shortest = DNA2\n",
        "percent = 0.0\n",
        "for i, base in enumerate(DNA3):\n",
        "    if DNA2[i] == base:\n",
        "        percent += 1.0\n",
        "print(percent * 100 / len(shortest))\n",
        "\n",
        "Rhino_Elephant = 69.3859649122807"
      ],
      "execution_count": null,
      "outputs": [
        {
          "output_type": "stream",
          "text": [
            "69.3859649122807\n"
          ],
          "name": "stdout"
        }
      ]
    },
    {
      "cell_type": "code",
      "metadata": {
        "colab": {
          "base_uri": "https://localhost:8080/"
        },
        "id": "hLk4IVcG36wP",
        "outputId": "2c1a337d-69c7-4772-ca10-5498abfd6f3c"
      },
      "source": [
        "percent1 = len(DNA1) #if this doesn't work try sum not len\n",
        "percent2 = len(DNA2)\n",
        "percent3 = len(DNA3)\n",
        "Total = len(DNA1) + len(DNA2) + len(DNA3)\n",
        "\n",
        "print(Total)\n",
        "# print(percent1)\n",
        "# print(percent2)\n",
        "# print(percent3)\n",
        "\n",
        "# p1 = (percent1 / Total)\n",
        "# p2 = (percent2 / Total)\n",
        "# p3 = (percent3 / Total)\n",
        "# print(p_1)\n",
        "# print(p_2)\n",
        "# print(p_3)"
      ],
      "execution_count": null,
      "outputs": [
        {
          "output_type": "stream",
          "text": [
            "3420\n"
          ],
          "name": "stdout"
        }
      ]
    },
    {
      "cell_type": "markdown",
      "metadata": {
        "id": "_mrOuilMtG2t"
      },
      "source": [
        "## Bonus Challenge\n",
        "\n",
        "Visualize your results! Choose a graph type that you think will communicate your conclusions effectively and create it using matplotlib:"
      ]
    },
    {
      "cell_type": "code",
      "metadata": {
        "id": "CdobZIRptG2u",
        "colab": {
          "base_uri": "https://localhost:8080/",
          "height": 248
        },
        "outputId": "264b1584-dad1-49ad-8044-9fb093df89ca"
      },
      "source": [
        "import matplotlib.pyplot as plt\n",
        "\n",
        "\n",
        "labels = [\"The Zebra & Rhino DNA similarity is \" + str(round(Zebra_Rhino, 1)) + \"%\", \"The Elaphants & Rhino DNA similarities \" + str(round(Rhino_Elephant, 1)) + \"%\", \"The Zebra & Elephant DNA simiarity is \" + str(round(Elephant_Zebra, 1)) + \"%\"]\n",
        "sizes = [Zebra_Rhino, Elephant_Zebra, Rhino_Elephant]\n",
        "colors = ['black', 'orange', 'gray']\n",
        "\n",
        "fig1, ax1 = plt.subplots()\n",
        "ax1.pie(sizes, colors=colors, startangle=90)\n",
        "ax1.axis('equal')  # Equal aspect ratio ensures that pie is drawn as a circle.\n",
        "\n",
        "patches, text = ax1.pie(sizes, colors=colors, startangle=90)\n",
        "plt.legend(labels, loc = \"lower left\")\n",
        "plt.show()\n"
      ],
      "execution_count": null,
      "outputs": [
        {
          "output_type": "display_data",
          "data": {
            "image/png": "[encoded data removed]",
            "text/plain": [
              "<Figure size 432x288 with 1 Axes>"
            ]
          },
          "metadata": {
            "tags": []
          }
        }
      ]
    },
    {
      "cell_type": "markdown",
      "metadata": {
        "id": "HG6XmewWDYGT"
      },
      "source": [
        "##Failure   ↓"
      ]
    },
    {
      "cell_type": "code",
      "metadata": {
        "colab": {
          "base_uri": "https://localhost:8080/",
          "height": 302
        },
        "id": "WDa9fmqbXE_2",
        "outputId": "f5df971b-5837-4608-ea64-cb3557f554d5"
      },
      "source": [
        "#Import libaries\n",
        "import matplotlib.patches as mpatches\n",
        "import numpy\n",
        "\n",
        "#The data (each line)\n",
        "x_labels = [Zebra_Rhino, Elephant_Zebra, Rhino_Elephant]\n",
        "y_label1 = (round(Zebra_Rhino, 1))\n",
        "y_label3 = (round(Elephant_Zebra, 1))\n",
        "y_label2 = (round(Rhino_Elephant, 1))\n",
        "labels1 = \"Zebra\", \"Rhino\", \"Elephant\"\n",
        "\n",
        "plt.plot(y_label1, color=\"black\")\n",
        "plt.plot(y_label2, color=\"orange\")\n",
        "plt.plot(y_label3, color=\"gray\")\n",
        "\n",
        "plt.xlabel(labels1)\n",
        "plt.xlim(0, 100)\n",
        "plt.ylabel(\"DNA %\")\n",
        "plt.ylim(0, 100)\n",
        "plt.xticks(x_labels, rotation=90)\n",
        "\n",
        "black_patch = mpatches.Patch(color='black', label='Zebra')\n",
        "orange_patch = mpatches.Patch(color='orange', label='elephant')\n",
        "gray_patch = mpatches.Patch(color='gray', label='rhino')\n",
        "plt.legend(handles=[black_patch, orange_patch, gray_patch])\n",
        "\n",
        "plt.grid = (True)\n",
        "plt.show()"
      ],
      "execution_count": null,
      "outputs": [
        {
          "output_type": "display_data",
          "data": {
            "image/png": "[encoded data removed]",
            "text/plain": [
              "<Figure size 432x288 with 1 Axes>"
            ]
          },
          "metadata": {
            "tags": [],
            "needs_background": "light"
          }
        }
      ]
    },
    {
      "cell_type": "markdown",
      "metadata": {
        "id": "ytMR3zP7Dhhu"
      },
      "source": [
        "#Success... I think?  **↓**"
      ]
    },
    {
      "cell_type": "code",
      "metadata": {
        "colab": {
          "base_uri": "https://localhost:8080/",
          "height": 269
        },
        "id": "ag-JxBg4zaoa",
        "outputId": "b51831ec-0a30-40c4-c118-8c9b72d37530"
      },
      "source": [
        "zebra = 100\n",
        "elaphant = 100\n",
        "rhino = 100\n",
        "# plt.bar(0, zebra, color= 'blue')\n",
        "# plt.bar(1, elaphant, color='red')\n",
        "# plt.bar(2, rhino, color='purple')\n",
        "plt.bar(0, Zebra_Rhino, color=\"Black\")\n",
        "plt.bar(1, Elephant_Zebra, color='orange')\n",
        "plt.bar(2, Rhino_Elephant, color='gray')\n",
        "plt.yticks(range(0, 101, 10))\n",
        "plt.ylim(0, 100)\n",
        "labels = [\"The Zebra & Rhino DNA similarity is \" + str(round(Zebra_Rhino, 1)) + \"%\",\n",
        "          \"The Rhino & Elephant DNA similarities \" + str(round(Rhino_Elephant, 1)) + \"%\", \"The Elephant & Zebra DNA simiarity is \" + \n",
        "          str(round(Elephant_Zebra, 1)) + \"%\"]\n",
        "# sizes = [Zebra_Rhino, Zebra_Elephant, Elephant_Rhino]\n",
        "colors = ['black', 'orange', 'gray']\n",
        "\n",
        "plt.legend(labels, loc = \"lower right\")\n",
        "plt.show()"
      ],
      "execution_count": null,
      "outputs": [
        {
          "output_type": "display_data",
          "data": {
            "image/png": "[encoded data removed]",
            "text/plain": [
              "<Figure size 432x288 with 1 Axes>"
            ]
          },
          "metadata": {
            "tags": [],
            "needs_background": "light"
          }
        }
      ]
    },
    {
      "cell_type": "markdown",
      "metadata": {
        "id": "SIAxiqqatG2v"
      },
      "source": [
        "## Bonus Challenge 2\n",
        "If you finish your project and want to try a challenge, come up with a hypothesis about which of the following species are most closely related to humans (carp, chicken, chimp, dog, eel, elephant, frog, gorilla, macaque monkey, mouse, orangutan, pig). Write out a ranked list with the species you think is most related to humans at the top.\n",
        "\n",
        "Then calculate the percent difference between the hemoglobin amino acid sequences of humans and each species to find out how close you came to the right ranking!"
      ]
    },
    {
      "cell_type": "markdown",
      "metadata": {
        "id": "h9f0AD2fjKvt"
      },
      "source": [
        "#After much much MUCH trial and error and having to re-re-re-read the instructions I finally got it. Ignore the big mess below.... "
      ]
    },
    {
      "cell_type": "code",
      "metadata": {
        "id": "nGorLrs_jkmG"
      },
      "source": [
        "humans = open(\"/content/drive/MyDrive/Colab Notebooks/Human_hemoglobin.txt\").read()\n",
        "carp = open(\"/content/drive/MyDrive/Colab Notebooks/Carp_hemoglobin.txt\").read()\n",
        "chicken = open(\"/content/drive/MyDrive/Colab Notebooks/Chicken_hemoglobin.txt\").read()\n",
        "chimp = open(\"/content/drive/MyDrive/Colab Notebooks/Chimp_hemoglobin.txt\").read()\n",
        "dog = open(\"/content/drive/MyDrive/Colab Notebooks/Dog_hemoglobin.txt\").read()\n",
        "eel = open(\"/content/drive/MyDrive/Colab Notebooks/Eel_hemoglobin.txt\").read()\n",
        "elephant = open(\"/content/drive/MyDrive/Colab Notebooks/Elephant_hemoglobin.txt\").read()\n",
        "frog = open(\"/content/drive/MyDrive/Colab Notebooks/Frog_hemoglobin.txt\").read()\n",
        "gorilla = open(\"/content/drive/MyDrive/Colab Notebooks/Gorilla_hemoglobin.txt\").read()\n",
        "macaqueMonkey = open(\"/content/drive/MyDrive/Colab Notebooks/Macaque_hemoglobin.txt\").read()\n",
        "mouse = open(\"/content/drive/MyDrive/Colab Notebooks/Mouse_hemoglobin.txt\").read()\n",
        "orangutan = open(\"/content/drive/MyDrive/Colab Notebooks/Orangutan_hemoglobin.txt\").read()\n",
        "pig = open(\"/content/drive/MyDrive/Colab Notebooks/Pig_hemoglobin.txt\").read()"
      ],
      "execution_count": null,
      "outputs": []
    },
    {
      "cell_type": "code",
      "metadata": {
        "id": "lqUbhgFeqGSh"
      },
      "source": [
        "if len(humans)<=len(organism):\n",
        "    shortest = humans\n",
        "else:\n",
        "    shortest = organism\n",
        "percent = 0.0\n",
        "for i, base in enumerate(humans):\n",
        "    if organism[i] == base:\n",
        "        percent += 1.0\n",
        "print(percent * 100 / len(shortest))"
      ],
      "execution_count": null,
      "outputs": []
    },
    {
      "cell_type": "code",
      "metadata": {
        "colab": {
          "base_uri": "https://localhost:8080/"
        },
        "id": "xbp2YRRZjoZ4",
        "outputId": "042692e6-63be-4040-add0-98ff6c3b96c0"
      },
      "source": [
        "if len(humans)<=len(carp):\n",
        "    shortest = humans\n",
        "else:\n",
        "    shortest = carp\n",
        "percent = 0.0\n",
        "for i, base in enumerate(humans):\n",
        "    if carp[i] == base:\n",
        "        percent += 1.0\n",
        "print(percent * 100 / len(shortest))\n",
        "\n",
        "if len(humans)<=len(chicken):\n",
        "    shortest = humans\n",
        "else:\n",
        "    shortest = chicken\n",
        "percent = 0.0\n",
        "for i, base in enumerate(humans):\n",
        "    if chicken[i] == base:\n",
        "        percent += 1.0\n",
        "print(percent * 100 / len(shortest))\n",
        "\n",
        "if len(humans)<=len(chimp):\n",
        "    shortest = humans\n",
        "else:\n",
        "    shortest = chimp\n",
        "percent = 0.0\n",
        "for i, base in enumerate(humans):\n",
        "    if chimp[i] == base:\n",
        "        percent += 1.0\n",
        "print(percent * 100 / len(shortest))\n",
        "\n",
        "if len(humans)<=len(dog):\n",
        "    shortest = humans\n",
        "else:\n",
        "    shortest = dog\n",
        "percent = 0.0\n",
        "for i, base in enumerate(humans):\n",
        "    if dog[i] == base:\n",
        "        percent += 1.0\n",
        "print(percent * 100 / len(shortest))\n",
        "\n",
        "if len(humans)<=len(eel):\n",
        "    shortest = humans\n",
        "else:\n",
        "    shortest = eel\n",
        "percent = 0.0\n",
        "for i, base in enumerate(humans):\n",
        "    if eel[i] == base:\n",
        "        percent += 1.0\n",
        "print(percent * 100 / len(shortest))\n",
        "\n",
        "if len(humans)<=len(elephant):\n",
        "    shortest = humans\n",
        "else:\n",
        "    shortest = elephant\n",
        "percent = 0.0\n",
        "for i, base in enumerate(humans):\n",
        "    if elephant[i] == base:\n",
        "        percent += 1.0\n",
        "print(percent * 100 / len(shortest))\n",
        "\n",
        "if len(humans)<=len(frog):\n",
        "    shortest = humans\n",
        "else:\n",
        "    shortest = frog\n",
        "percent = 0.0\n",
        "for i, base in enumerate(humans):\n",
        "    if frog[i] == base:\n",
        "        percent += 1.0\n",
        "print(percent * 100 / len(shortest))\n",
        "\n",
        "if len(humans)<=len(gorilla):\n",
        "    shortest = humans\n",
        "else:\n",
        "    shortest = gorilla\n",
        "percent = 0.0\n",
        "for i, base in enumerate(humans):\n",
        "    if gorilla[i] == base:\n",
        "        percent += 1.0\n",
        "print(percent * 100 / len(shortest))\n",
        "\n",
        "if len(humans)<=len(macaqueMonkey):\n",
        "    shortest = humans\n",
        "else:\n",
        "    shortest = macaqueMonkey\n",
        "percent = 0.0\n",
        "for i, base in enumerate(humans):\n",
        "    if macaqueMonkey[i] == base:\n",
        "        percent += 1.0\n",
        "print(percent * 100 / len(shortest))\n",
        "\n",
        "if len(humans)<=len(mouse):\n",
        "    shortest = humans\n",
        "else:\n",
        "    shortest = mouse\n",
        "percent = 0.0\n",
        "for i, base in enumerate(humans):\n",
        "    if mouse[i] == base:\n",
        "        percent += 1.0\n",
        "print(percent * 100 / len(shortest))\n",
        "\n",
        "if len(humans)<=len(orangutan):\n",
        "    shortest = humans\n",
        "else:\n",
        "    shortest = orangutan\n",
        "percent = 0.0\n",
        "for i, base in enumerate(humans):\n",
        "    if orangutan[i] == base:\n",
        "        percent += 1.0\n",
        "print(percent * 100 / len(shortest))\n",
        "\n",
        "if len(humans)<=len(pig):\n",
        "    shortest = humans\n",
        "else:\n",
        "    shortest = pig\n",
        "percent = 0.0\n",
        "for i, base in enumerate(humans):\n",
        "    if pig[i] == base:\n",
        "        percent += 1.0\n",
        "print(percent * 100 / len(shortest))"
      ],
      "execution_count": null,
      "outputs": [
        {
          "output_type": "stream",
          "text": [
            "21.27659574468085\n",
            "70.2127659574468\n",
            "100.0\n",
            "83.68794326241135\n",
            "19.858156028368793\n",
            "82.97872340425532\n",
            "57.4468085106383\n",
            "99.29078014184397\n",
            "96.45390070921985\n",
            "85.81560283687944\n",
            "97.87234042553192\n",
            "84.39716312056737\n"
          ],
          "name": "stdout"
        }
      ]
    },
    {
      "cell_type": "code",
      "metadata": {
        "id": "h2BvTUV5tJz7"
      },
      "source": [
        "human_carp = 21.27659574468085\n",
        "human_chicken = 70.2127659574468\n",
        "human_chimp = 100.0 \n",
        "human_dog = 83.68794326241135\n",
        "human_eel = 19.858156028368793\n",
        "human_elephant = 82.97872340425532\n",
        "human_frog = 57.4468085106383\n",
        "human_gorilla = 99.29078014184397 \n",
        "human_macaqueMonkey = 96.45390070921985 \n",
        "human_mouse = 85.81560283687944\n",
        "human_orangutan = 97.87234042553192 \n",
        "human_pig = 84.39716312056737"
      ],
      "execution_count": null,
      "outputs": []
    },
    {
      "cell_type": "code",
      "metadata": {
        "id": "Y7Z2PVY4lpdN"
      },
      "source": [
        "Rank1 = human_chimp\n",
        "Rank2 = human_gorilla\n",
        "Rank3 = human_orangutan\n",
        "Rank4 = human_macaqueMonkey\n",
        "Rank5 = human_mouse\n",
        "Rank6 = human_pig\n",
        "Rank7 = human_dog\n",
        "Rank8 = human_elephant\n",
        "Rank9 = human_chicken\n",
        "Rank10 = human_frog\n",
        "Rank11 = human_carp\n",
        "Rank12 = human_eel"
      ],
      "execution_count": null,
      "outputs": []
    },
    {
      "cell_type": "code",
      "metadata": {
        "colab": {
          "base_uri": "https://localhost:8080/",
          "height": 295
        },
        "id": "Reg8Ykr2obP4",
        "outputId": "faf6a130-dc27-4e2a-bae0-f9c59d8bda75"
      },
      "source": [
        "import matplotlib.pyplot as plt\n",
        "\n",
        "human = 100\n",
        "plt.bar(0, human, color='Red')\n",
        "plt.bar(1, Rank1, color='gold')\n",
        "plt.bar(2, Rank2, color='silver')\n",
        "plt.bar(3, Rank3, color='goldenrod')\n",
        "plt.bar(4, Rank4, color='orange')\n",
        "plt.bar(5, Rank5, color='orange')\n",
        "plt.bar(6, Rank6, color='tan')\n",
        "plt.bar(7, Rank7, color='brown')\n",
        "plt.bar(8, Rank8, color='brown')\n",
        "plt.bar(9, Rank9, color='maroon')\n",
        "plt.bar(10, Rank10, color='blue')\n",
        "plt.bar(11, Rank11, color='navy')\n",
        "plt.bar(12, Rank12, color='black')\n",
        "\n",
        "plt.title(\"The most and least similar DNA of a specias to humans\")\n",
        "plt.xlabel(\"The specias\")\n",
        "plt.ylabel(\"DNA similarity percent\")\n",
        "\n",
        "labels = [\"Humans\", 'Chimps ' + str(round(human_chimp, 1)) + '%', 'Gorilla ' + str(round(human_gorilla, 1)) + '%', \n",
        "          'Orangutans ' + str(round(human_orangutan, 1)) + '%', 'Macaque Monkey ' + str(round(human_macaqueMonkey, 1)) + '%', 'Mouse ' + str(round(human_mouse, 1)) + '%',\n",
        "          'Pig ' + str(round(human_pig, 1)) + '%', 'Dog ' + str(round(human_dog, 1)) + '%', \n",
        "          'Elephants ' + str(round(human_elephant, 1)) + '%', 'Chicken ' + str(round(human_chicken, 1)) + '%', 'Frog ' + str(round(human_frog, 1)) + '%', \n",
        "          'Carp ' + str(round(human_carp, 1)) + '%', 'Eel ' + str(round(human_eel, 1)) + '%']\n",
        "\n",
        "plt.legend(labels, loc = \"upper right\")\n",
        "plt.show()"
      ],
      "execution_count": null,
      "outputs": [
        {
          "output_type": "display_data",
          "data": {
            "image/png": "[encoded data removed]",
            "text/plain": [
              "<Figure size 432x288 with 1 Axes>"
            ]
          },
          "metadata": {
            "tags": [],
            "needs_background": "light"
          }
        }
      ]
    },
    {
      "cell_type": "markdown",
      "metadata": {
        "id": "xmKsnZ9ijhnr"
      },
      "source": [
        "#The thing to ignore"
      ]
    },
    {
      "cell_type": "code",
      "metadata": {
        "id": "l5Qgw0DYzU_K"
      },
      "source": [
        "# [\"Chimps\" + (round(human_chimp, 1)) + \"% similarity\"]\n",
        "#, \"Orangutan\" + str(range(human_orangutan, 1))+ \"% similarity\", \n",
        "          # \"Macaque Monkyey\" + str(range(human_macaqueMonkey, 1)) + \"% similarity\", \"Mouse\" + str(range(human_mouse, 1)) + \"% similarity\",\n",
        "          # \"Pig\" + str(range(human_pig, 1)) + \"% similarity\", \"Dog\" + str(ran(human_dog, 1)) + \"% similarity\",\n",
        "          # \"Chicken\" + str(range(human_chicken, 1)) + \"% similarity\", \"Carp\" + str(range(human_carp, 1)) + \"% similarity\", \"Eel\" + str(range(human_eel, 1)) + \"% similarity\"]\n",
        "\n",
        "# labels = [\"100% Zebra DNA\", \"100% Rhino DNA\",\"100% Elephant DNA\",\"The Zebra & Rhino DNA similarity is \" + str(round(Zebra_Rhino, 1)) + \"%\",\n",
        "#           \"The Rhino & Elephant DNA similarities \" + str(round(Rhino_Elephant, 1)) + \"%\", \"The Elephant & Zebra DNA simiarity is \" + \n",
        "#           str(round(Elephant_Zebra, 1)) + \"%\"]\n",
        "# # sizes = [Zebra_Rhino, Zebra_Elephant, Elephant_Rhino]\n",
        "# colors = ['blue', 'purple', 'red', 'black', 'orange', 'gray']\n"
      ],
      "execution_count": null,
      "outputs": []
    },
    {
      "cell_type": "code",
      "metadata": {
        "collapsed": true,
        "id": "xFCBYBm8tG2w"
      },
      "source": [
        "humansDNA = open(\"/content/drive/MyDrive/Colab Notebooks/Human_hemoglobin.txt\").read()\n",
        "carpDNA = open(\"/content/drive/MyDrive/Colab Notebooks/Carp_hemoglobin.txt\").read()\n",
        "chickenDNA = open(\"/content/drive/MyDrive/Colab Notebooks/Chicken_hemoglobin.txt\").read()\n",
        "chimpDNA = open(\"/content/drive/MyDrive/Colab Notebooks/Chimp_hemoglobin.txt\").read()\n",
        "dogDNA = open(\"/content/drive/MyDrive/Colab Notebooks/Dog_hemoglobin.txt\").read()\n",
        "eelDNA = open(\"/content/drive/MyDrive/Colab Notebooks/Eel_hemoglobin.txt\").read()\n",
        "# elephantDNA = open(\"\").read()\n",
        "# frogDNA = open(\"\").read()\n",
        "# gorilla DNA= open(\"\").read()\n",
        "macaqueMonkeyDNA = open(\"/content/drive/MyDrive/Colab Notebooks/Macaque_hemoglobin.txt\").read()\n",
        "mouseDNA = open(\"/content/drive/MyDrive/Colab Notebooks/Mouse_hemoglobin.txt\").read()\n",
        "orangutanDNA = open(\"/content/drive/MyDrive/Colab Notebooks/Orangutan_hemoglobin.txt\").read()\n",
        "pigDNA = open(\"/content/drive/MyDrive/Colab Notebooks/Pig_hemoglobin.txt\").read()"
      ],
      "execution_count": null,
      "outputs": []
    },
    {
      "cell_type": "code",
      "metadata": {
        "id": "VaU0lrsXYVk6"
      },
      "source": [
        "print(humanDNA)\n",
        "print(carpDNA)\n",
        "print(chickenDNA)\n",
        "print(chimpDNA)\n",
        "print(dogDNA)\n",
        "print(eelDNA)\n",
        "# print(elephantDNA)\n",
        "# print(frogDNA)\n",
        "# print(gorillaDNA)\n",
        "print(macaqueMonkeyDNA)\n",
        "print(mouseDNA)\n",
        "print(orangutanDNA)\n",
        "print(pigDNA)"
      ],
      "execution_count": null,
      "outputs": []
    },
    {
      "cell_type": "code",
      "metadata": {
        "id": "hqA6VhQbP1MT"
      },
      "source": [
        "#the dictionaries!\n",
        "RNA_dict = {\"A\":\"U\", \"T\":\"A\", \"G\":\"C\", \"C\":\"G\"}\n",
        "codon_dict = {\"UUU\":\"F\",\"UUC\":\"F\",\"UUA\":\"L\",\"UUG\":\"L\", \"CUU\":\"L\",\"CUC\":\"L\", \"CUA\":\"L\",\"CUG\":\"L\",\"AUU\":\"I\",\"AUC\":\"I\",\"AUA\":\"I\",\"AUG\":\"M\", \"GUU\":\"V\",\"GUC\":\"V\",\"GUA\":\"V\",\"GUG\":\"V\",\"UCU\":\"S\",\"UCC\":\"S\", \"UCA\":\"S\",\"UCG\":\"S\",\"CCU\":\"P\",\"CCC\":\"P\",\"CCA\":\"P\",\"CCG\":\"P\", \"ACU\":\"T\",\"ACC\":\"T\",\"ACA\":\"T\",\"ACG\":\"T\",\"GCU\":\"A\",\"GCC\":\"A\", \"GCA\":\"A\",\"GCG\":\"A\",\"UAU\":\"Y\",\"UAC\":\"Y\",\"UAA\":\"STOP\",\"UAG\":\"STOP\", \"UGA\":\"STOP\",\"CAU\":\"H\",\"CAC\":\"H\",\"CAA\":\"Q\",\"CAG\":\"Q\",\"AAU\":\"N\", \"AAC\":\"N\",\"AAA\":\"K\",\"AAG\":\"K\",\"GAU\":\"D\",\"GAC\":\"D\",\"GAA\":\"E\", \"GAG\":\"E\",\"UGU\":\"C\",\"UGC\":\"C\",\"UGG\":\"W\",\"CGU\":\"R\",\"CGC\":\"R\", \"CGA\":\"R\",\"CGG\":\"R\",\"AGU\":\"S\",\"AGC\":\"S\",\"AGA\":\"R\",\"AGG\":\"R\", \"GGU\":\"G\",\"GGC\":\"G\",\"GGA\":\"G\",\"GGG\":\"G\"}"
      ],
      "execution_count": null,
      "outputs": []
    },
    {
      "cell_type": "code",
      "metadata": {
        "id": "emDjeFeeQTMi"
      },
      "source": [
        "#Run five here: carp, chicken, chimp, dog, and ell- to conver DNA to RNA\n",
        "carp_RNA = \"\"\n",
        "\n",
        "for i in carpDNA: \n",
        "  carp_RNA += RNA_dict[i] #shortcut\n",
        "# print(carp_RNA)\n",
        "\n",
        "chicken_RNA= \"\"\n",
        "\n",
        "for i in chickenDNA: \n",
        "  chicken_RNA += RNA_dict[i] #shortcut\n",
        "# print(chicken_RNA)\n",
        "\n",
        "chimp_RNA = \"\"\n",
        "\n",
        "for i in chimpDNA: \n",
        "  chimp_RNA += RNA_dict[i] #shortcut\n",
        "# print(chimp_RNA)\n",
        "\n",
        "dog_RNA = \"\"\n",
        "\n",
        "for i in dogDNA: \n",
        "  dog_RNA += RNA_dict[i] #shortcut\n",
        "# print(dog_RNA)\n",
        "\n",
        "eel_RNA = \"\"\n",
        "\n",
        "for i in eelDNA: \n",
        "  eel_RNA += RNA_dict[i] #shortcut\n",
        "# print(ell_RNA)"
      ],
      "execution_count": null,
      "outputs": []
    },
    {
      "cell_type": "code",
      "metadata": {
        "id": "z5nu3pLTQhYy"
      },
      "source": [
        "#Eun the other five: macaque Monkey, mouse, orangutan, pig, and human- to conver DNA to RNA\n",
        "macaqueMonkey_RNA= \"\"\n",
        "\n",
        "for i in macaqueMonkeyDNA: \n",
        "  macaqueMonkey_RNA += RNA_dict[i] #shortcut\n",
        "print(macaqueMonkey_RNA)\n",
        "\n",
        "mouse_RNA = \"\"\n",
        "\n",
        "for i in mouseDNA: \n",
        "  mouse_RNA += RNA_dict[i] #shortcut\n",
        "print(mouse_RNA)\n",
        "\n",
        "orangutan_RNA = \"\"\n",
        "\n",
        "for i in orangutanDNA: \n",
        "  orangutan_RNA += RNA_dict[i] #shortcut\n",
        "print(orangutan_RNA)\n",
        "\n",
        "pig_RNA = \"\"\n",
        "\n",
        "for i in pigDNA: \n",
        "  pig_RNA += RNA_dict[i] #shortcut\n",
        "print(pig_RNA)\n",
        "\n",
        "human_RNA = \"\"\n",
        "\n",
        "for i in humanDNA: \n",
        "  human_RNA += RNA_dict[i] #shortcut\n",
        "print(human_RNA)"
      ],
      "execution_count": null,
      "outputs": []
    },
    {
      "cell_type": "code",
      "metadata": {
        "id": "nplF7wQjR7ML"
      },
      "source": [
        "#for the other three: elephant, frog, and gorilla- to conver DNA to RNA\n",
        "\n",
        "elephant_RNA = \"\"\n",
        "\n",
        "for i in elephantDNA: \n",
        "  elephant_RNA += RNA_dict[i] #shortcut\n",
        "print(elephant_RNA)\n",
        "\n",
        "frog_RNA = \"\"\n",
        "\n",
        "for i in frogDNA: \n",
        "  frog_RNA += RNA_dict[i] #shortcut\n",
        "print(frog_RNA)\n",
        "\n",
        "gorilla_RNA = \"\"\n",
        "\n",
        "for i in gorillaDNA: \n",
        "  gorilla_RNA += RNA_dict[i] #shortcut\n",
        "print(gorilla_RNA)"
      ],
      "execution_count": null,
      "outputs": []
    },
    {
      "cell_type": "code",
      "metadata": {
        "id": "GZ3JTNo-SiXS"
      },
      "source": [
        "#run next five: carp, chicken, chimp, dog, and ell- to conver RNA to protein\n",
        "\n",
        "carp_protein = \"\"\n",
        "chicken_protein = \"\"\n",
        "chimp_protein = \"\"\n",
        "dog_protein = \"\"\n",
        "ell_protein = \"\"\n",
        "condon = \"\"\n",
        "\n",
        "for i in carpDNA: #? \n",
        "  if len(codon) == 3:\n",
        "    carp_protein += codon_dict[codon]\n",
        "    codon = \"\"\n",
        "  else:\n",
        "    codon += i\n",
        "\n",
        "print(carp_protein)\n",
        "\n",
        "for i in chicken_RNA:\n",
        "  if len(codon) == 3:\n",
        "    chicken_protein += codon_dict[codon]\n",
        "    codon = \"\"\n",
        "  else:\n",
        "    codon += i\n",
        "\n",
        "print(chicken_protein)\n",
        "\n",
        "for i in chimp_RNA:\n",
        "  if len(codon) == 3:\n",
        "    chimp_protein += codon_dict[codon]\n",
        "    codon = \"\"\n",
        "  else:\n",
        "    codon += i\n",
        "\n",
        "print(chimp_protein)\n",
        "\n",
        "for i in dog_RNA:\n",
        "  if len(codon) == 3:\n",
        "    dog_protein += codon_dict[codon]\n",
        "    codon = \"\"\n",
        "  else:\n",
        "    codon += i\n",
        "\n",
        "print(dog_protein)\n",
        "\n",
        "for i in ell_RNA:\n",
        "  if len(codon) == 3:\n",
        "    ell_protein += codon_dict[codon]\n",
        "    codon = \"\"\n",
        "  else:\n",
        "    codon += i\n",
        "\n",
        "print(ell_protein)"
      ],
      "execution_count": null,
      "outputs": []
    },
    {
      "cell_type": "code",
      "metadata": {
        "id": "3TOtBV8fS1Rl"
      },
      "source": [
        "#run next five: macaque Monkey, mouse, orangutan, pig, and human- to conver RNA to protein\n",
        "MM_protein = \"\"\n",
        "mouse_protein = \"\"\n",
        "orangutan_protein = \"\"\n",
        "pig_protein = \"\"\n",
        "human_protein = \"\"\n",
        "\n",
        "for i in macaqueMonkey_RNA:\n",
        "  if len(codon) == 3:\n",
        "    MM_protein += codon_dict[codon]\n",
        "    codon = \"\"\n",
        "  else:\n",
        "    codon += i\n",
        "\n",
        "print(MM_protein)\n",
        "\n",
        "for i in mouse_RNA:\n",
        "  if len(codon) == 3:\n",
        "    mouse_protein += codon_dict[codon]\n",
        "    codon = \"\"\n",
        "  else:\n",
        "    codon += i\n",
        "\n",
        "print(mouse_protein)\n",
        "\n",
        "for i in orangutan_protein:\n",
        "  if len(codon) == 3:\n",
        "    orangutan_protein += codon_dict[codon]\n",
        "    codon = \"\"\n",
        "  else:\n",
        "    codon += i\n",
        "\n",
        "print(orangutan_protein)\n",
        "\n",
        "for i in pig_RNA:\n",
        "  if len(codon) == 3:\n",
        "    pig_protein += codon_dict[codon]\n",
        "    codon = \"\"\n",
        "  else:\n",
        "    codon += i\n",
        "\n",
        "print(pig_protein)\n",
        "\n",
        "for i in human_RNA:\n",
        "  if len(codon) == 3:\n",
        "    human_protein += codon_dict[codon]\n",
        "    codon = \"\"\n",
        "  else:\n",
        "    codon += i\n",
        "\n",
        "print(human_protein)"
      ],
      "execution_count": null,
      "outputs": []
    },
    {
      "cell_type": "code",
      "metadata": {
        "id": "Q0obbvaRS237"
      },
      "source": [
        "#run next five: elephant, frog, and gorilla- to conver RNA to protein\n",
        "elephant_protein = \"\"\n",
        "frog_protein = \"\"\n",
        "gorilla_protein = \"\"\n",
        "for i in HisRNA:\n",
        "  if len(codon) == 3:\n",
        "    protein += codon_dict[codon]\n",
        "    codon = \"\"\n",
        "  else:\n",
        "    codon += i\n",
        "\n",
        "print(protein)\n",
        "\n",
        "for i in HisRNA:\n",
        "  if len(codon) == 3:\n",
        "    protein += codon_dict[codon]\n",
        "    codon = \"\"\n",
        "  else:\n",
        "    codon += i\n",
        "\n",
        "print(protein)\n",
        "\n",
        "for i in HisRNA:\n",
        "  if len(codon) == 3:\n",
        "    protein += codon_dict[codon]\n",
        "    codon = \"\"\n",
        "  else:\n",
        "    codon += i\n",
        "\n",
        "print(protein)"
      ],
      "execution_count": null,
      "outputs": []
    },
    {
      "cell_type": "code",
      "metadata": {
        "id": "l06-V8kwaDRl"
      },
      "source": [
        "if len(human)<=len(carp):\n",
        "    shortest = human\n",
        "else:\n",
        "    shortest = carp\n",
        "percent = 0.0\n",
        "for i, base in enumerate(human):\n",
        "    if carp[i] == base:\n",
        "        percent += 1.0\n",
        "print(percent * 100 / len(shortest))"
      ],
      "execution_count": null,
      "outputs": []
    },
    {
      "cell_type": "code",
      "metadata": {
        "id": "EHEcNaLmayH0"
      },
      "source": [
        "if len(human)<=len(chicken):\n",
        "    shortest = human\n",
        "else:\n",
        "    shortest = chicken\n",
        "percent = 0.0\n",
        "for i, base in enumerate(human):\n",
        "    if chicken[i] == base:\n",
        "        percent += 1.0\n",
        "print(percent * 100 / len(shortest))"
      ],
      "execution_count": null,
      "outputs": []
    },
    {
      "cell_type": "code",
      "metadata": {
        "id": "lTx3Yo7GayuU"
      },
      "source": [
        "if len(human)<=len(chimp):\n",
        "    shortest = human\n",
        "else:\n",
        "    shortest = chimp\n",
        "percent = 0.0\n",
        "for i, base in enumerate(human):\n",
        "    if chimp[i] == base:\n",
        "        percent += 1.0\n",
        "print(percent * 100 / len(shortest))"
      ],
      "execution_count": null,
      "outputs": []
    },
    {
      "cell_type": "code",
      "metadata": {
        "id": "8Mggd3wqazQ9"
      },
      "source": [
        "if len(human)<=len(dog):\n",
        "    shortest = human\n",
        "else:\n",
        "    shortest = dog\n",
        "percent = 0.0\n",
        "for i, base in enumerate(human):\n",
        "    if dog[i] == base:\n",
        "        percent += 1.0\n",
        "print(percent * 100 / len(shortest))"
      ],
      "execution_count": null,
      "outputs": []
    },
    {
      "cell_type": "code",
      "metadata": {
        "id": "9lrhLcsEazpi"
      },
      "source": [
        "if len(human)<=len(ell):\n",
        "    shortest = human\n",
        "else:\n",
        "    shortest = ell\n",
        "percent = 0.0\n",
        "for i, base in enumerate(human):\n",
        "    if ell[i] == base:\n",
        "        percent += 1.0\n",
        "print(percent * 100 / len(shortest))"
      ],
      "execution_count": null,
      "outputs": []
    },
    {
      "cell_type": "code",
      "metadata": {
        "id": "dGpy9rpua0Ki"
      },
      "source": [
        "if len(human)<=len(mouse):\n",
        "    shortest = human\n",
        "else:\n",
        "    shortest = mouse\n",
        "percent = 0.0\n",
        "for i, base in enumerate(human):\n",
        "    if mouse[i] == base:\n",
        "        percent += 1.0\n",
        "print(percent * 100 / len(shortest))"
      ],
      "execution_count": null,
      "outputs": []
    },
    {
      "cell_type": "code",
      "metadata": {
        "id": "0e891ReCa0sD"
      },
      "source": [
        "if len(human)<=len(pig):\n",
        "    shortest = human\n",
        "else:\n",
        "    shortest = pig\n",
        "percent = 0.0\n",
        "for i, base in enumerate(human):\n",
        "    if pig[i] == base:\n",
        "        percent += 1.0\n",
        "print(percent * 100 / len(shortest))pig"
      ],
      "execution_count": null,
      "outputs": []
    },
    {
      "cell_type": "code",
      "metadata": {
        "id": "F6dG5KaEa1Fx"
      },
      "source": [
        "if len(human)<=len():\n",
        "    shortest = human\n",
        "else:\n",
        "    shortest = \n",
        "percent = 0.0\n",
        "for i, base in enumerate(human):\n",
        "    if [i] == base:\n",
        "        percent += 1.0\n",
        "print(percent * 100 / len(shortest))"
      ],
      "execution_count": null,
      "outputs": []
    },
    {
      "cell_type": "code",
      "metadata": {
        "id": "v41xzg0Ka1gE"
      },
      "source": [
        "if len(human)<=len(macaqueMonkey):\n",
        "    shortest = human\n",
        "else:\n",
        "    shortest = macaqueMonkey\n",
        "percent = 0.0\n",
        "for i, base in enumerate(human):\n",
        "    if macaqueMonkey[i] == base:\n",
        "        percent += 1.0\n",
        "print(percent * 100 / len(shortest))"
      ],
      "execution_count": null,
      "outputs": []
    },
    {
      "cell_type": "code",
      "metadata": {
        "id": "netYthlVa15q"
      },
      "source": [
        "if len(human)<=len(orangutan):\n",
        "    shortest = human\n",
        "else:\n",
        "    shortest = orangutan\n",
        "percent = 0.0\n",
        "for i, base in enumerate(human):\n",
        "    if orangutan[i] == base:\n",
        "        percent += 1.0\n",
        "print(percent * 100 / len(shortest))"
      ],
      "execution_count": null,
      "outputs": []
    },
    {
      "cell_type": "code",
      "metadata": {
        "id": "rwJJcWIXa2Yo"
      },
      "source": [
        "#not yet\n",
        "if len(human)<=len(elephant):\n",
        "    shortest = human\n",
        "else:\n",
        "    shortest = elephant\n",
        "percent = 0.0\n",
        "for i, base in enumerate(human):\n",
        "    if elephant[i] == base:\n",
        "        percent += 1.0\n",
        "print(percent * 100 / len(shortest))"
      ],
      "execution_count": null,
      "outputs": []
    },
    {
      "cell_type": "code",
      "metadata": {
        "id": "klGd44tia2wm"
      },
      "source": [
        "#not yet\n",
        "if len(human)<=len(gorilla):\n",
        "    shortest = human\n",
        "else:\n",
        "    shortest = gorilla\n",
        "percent = 0.0\n",
        "for i, base in enumerate(human):\n",
        "    if gorilla[i] == base:\n",
        "        percent += 1.0\n",
        "print(percent * 100 / len(shortest))"
      ],
      "execution_count": null,
      "outputs": []
    },
    {
      "cell_type": "code",
      "metadata": {
        "id": "2SuQ5VDXcNoN"
      },
      "source": [
        "# not yet\n",
        "if len(human)<=len(frog):\n",
        "    shortest = human\n",
        "else:\n",
        "    shortest = frog\n",
        "percent = 0.0\n",
        "for i, base in enumerate(human):\n",
        "    if frog[i] == base:\n",
        "        percent += 1.0\n",
        "print(percent * 100 / len(shortest))"
      ],
      "execution_count": null,
      "outputs": []
    }
  ]
}